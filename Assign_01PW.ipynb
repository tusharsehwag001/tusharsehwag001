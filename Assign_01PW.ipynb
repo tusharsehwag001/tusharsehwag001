{
  "nbformat": 4,
  "nbformat_minor": 0,
  "metadata": {
    "colab": {
      "provenance": [],
      "authorship_tag": "ABX9TyPr4I1g2oQbFLSatvYw3mtQ",
      "include_colab_link": true
    },
    "kernelspec": {
      "name": "python3",
      "display_name": "Python 3"
    },
    "language_info": {
      "name": "python"
    }
  },
  "cells": [
    {
      "cell_type": "markdown",
      "metadata": {
        "id": "view-in-github",
        "colab_type": "text"
      },
      "source": [
        "<a href=\"https://colab.research.google.com/github/tusharsehwag001/tusharsehwag001/blob/main/Assign_01PW.ipynb\" target=\"_parent\"><img src=\"https://colab.research.google.com/assets/colab-badge.svg\" alt=\"Open In Colab\"/></a>"
      ]
    },
    {
      "cell_type": "code",
      "execution_count": 1,
      "metadata": {
        "colab": {
          "base_uri": "https://localhost:8080/"
        },
        "id": "GF_MoUrrJhnT",
        "outputId": "bbcfffee-bccb-4a1f-9cfb-36e5ef5230e4"
      },
      "outputs": [
        {
          "output_type": "stream",
          "name": "stdout",
          "text": [
            "snosnhoj\n"
          ]
        }
      ],
      "source": [
        "# 1 Write a code to reverse a string\n",
        "\n",
        "str=\"johnsons\"\n",
        "print(str[::-1])"
      ]
    },
    {
      "cell_type": "code",
      "source": [
        "# 2 Write a code to count the number of vowels in a string\n",
        "\n",
        "str=\"johnson\"\n",
        "vowels=0\n",
        "for i in str:\n",
        "  if i in 'aeiou':\n",
        "     vowels=vowels+1\n",
        "print(vowels)\n"
      ],
      "metadata": {
        "colab": {
          "base_uri": "https://localhost:8080/"
        },
        "id": "Hn6rYjzWNZYE",
        "outputId": "835e451e-8ab2-493c-e688-1664e43c487e"
      },
      "execution_count": 2,
      "outputs": [
        {
          "output_type": "stream",
          "name": "stdout",
          "text": [
            "2\n"
          ]
        }
      ]
    },
    {
      "cell_type": "code",
      "source": [
        "# 3 Write a code to check if a given string is a palindrome or not\n",
        "\n",
        "string=\"PWskills\"\n",
        "if string==string[::-1]:\n",
        "    print(\"String is palindrome\")\n",
        "else:\n",
        "    print(\"String is not a palindrome\")\n",
        "\n",
        "\n"
      ],
      "metadata": {
        "colab": {
          "base_uri": "https://localhost:8080/"
        },
        "id": "TvICYxonPTKk",
        "outputId": "0a445731-72f7-4c3d-ad1c-a200a2f045f0"
      },
      "execution_count": 3,
      "outputs": [
        {
          "output_type": "stream",
          "name": "stdout",
          "text": [
            "String is not a palindrome\n"
          ]
        }
      ]
    },
    {
      "cell_type": "code",
      "source": [
        "# 4 Write a code to check if two given strings are anagrams of each other\n",
        "word_1=\"timla\"\n",
        "word_2=\"milta\"\n",
        "\n",
        "if sorted(word_1)==sorted(word_2):\n",
        "  print(\"Word is anagram\")\n",
        "else:\n",
        "  print(\"word is not anagram\")\n",
        "\n",
        "#anagram is that word that have same no. of characters and have same words but their order is different\n",
        "\n"
      ],
      "metadata": {
        "id": "UHM9MTN7Q2KX",
        "colab": {
          "base_uri": "https://localhost:8080/"
        },
        "outputId": "4dcd27da-d2a7-41ba-c4fa-adc9922709a2"
      },
      "execution_count": 4,
      "outputs": [
        {
          "output_type": "stream",
          "name": "stdout",
          "text": [
            "Word is anagram\n"
          ]
        }
      ]
    },
    {
      "cell_type": "code",
      "source": [
        "# 5 Write a code to find all occurrences of a given substring within another string\n",
        "\n",
        "string=\"abcdefghijkl\"\n",
        "sub_string=\"bcd\"\n",
        "for i in string:\n",
        "  for j in sub_string:\n",
        "    if j in i:\n",
        "     print(\"It is present\")\n",
        "    else:\n",
        "     print(\"It is not present\")"
      ],
      "metadata": {
        "id": "igzEO-GJTQh8",
        "colab": {
          "base_uri": "https://localhost:8080/"
        },
        "outputId": "d095483c-0f17-4a6d-b05b-233fb240cd83"
      },
      "execution_count": 5,
      "outputs": [
        {
          "output_type": "stream",
          "name": "stdout",
          "text": [
            "It is not present\n",
            "It is not present\n",
            "It is not present\n",
            "It is present\n",
            "It is not present\n",
            "It is not present\n",
            "It is not present\n",
            "It is present\n",
            "It is not present\n",
            "It is not present\n",
            "It is not present\n",
            "It is present\n",
            "It is not present\n",
            "It is not present\n",
            "It is not present\n",
            "It is not present\n",
            "It is not present\n",
            "It is not present\n",
            "It is not present\n",
            "It is not present\n",
            "It is not present\n",
            "It is not present\n",
            "It is not present\n",
            "It is not present\n",
            "It is not present\n",
            "It is not present\n",
            "It is not present\n",
            "It is not present\n",
            "It is not present\n",
            "It is not present\n",
            "It is not present\n",
            "It is not present\n",
            "It is not present\n",
            "It is not present\n",
            "It is not present\n",
            "It is not present\n"
          ]
        }
      ]
    },
    {
      "cell_type": "code",
      "source": [
        "#6  Write a code to perform basic string compression using the counts of repeated characters\n",
        "str=\"aaabbbbbbbbcccccdddzzzz\"\n",
        "for i in str:\n",
        "  print(len(i))\n"
      ],
      "metadata": {
        "colab": {
          "base_uri": "https://localhost:8080/"
        },
        "id": "UxdczVaIVMKH",
        "outputId": "e948bb3d-01c0-4875-be44-201018564408"
      },
      "execution_count": 6,
      "outputs": [
        {
          "output_type": "stream",
          "name": "stdout",
          "text": [
            "1\n",
            "1\n",
            "1\n",
            "1\n",
            "1\n",
            "1\n",
            "1\n",
            "1\n",
            "1\n",
            "1\n",
            "1\n",
            "1\n",
            "1\n",
            "1\n",
            "1\n",
            "1\n",
            "1\n",
            "1\n",
            "1\n",
            "1\n",
            "1\n",
            "1\n",
            "1\n"
          ]
        }
      ]
    },
    {
      "cell_type": "code",
      "source": [
        "#7 Write a code to determine if a string has all unique characters\n",
        "\n",
        "str=\"abcdefghijk\"\n",
        "is_duplicacy=False\n",
        "for i in range(len(str)):\n",
        "  for j in range(i+1,len(str)):\n",
        "    if str[i]==str[j]:\n",
        "      is_duplicacy=True\n",
        "      break\n",
        "  if is_duplicacy:\n",
        "    break\n",
        "\n",
        "if is_duplicacy:\n",
        " print(\"string do not have unique characters\")\n",
        "else:\n",
        " print(\"String has all unique characters\")\n"
      ],
      "metadata": {
        "colab": {
          "base_uri": "https://localhost:8080/"
        },
        "id": "p7SVrULbXCMm",
        "outputId": "eec04fa6-b301-4771-8c1b-6fccacd062a2"
      },
      "execution_count": 7,
      "outputs": [
        {
          "output_type": "stream",
          "name": "stdout",
          "text": [
            "String has all unique characters\n"
          ]
        }
      ]
    },
    {
      "cell_type": "code",
      "source": [
        "#8  Write a code to convert a given string to uppercase or lowercase\n",
        "\n",
        "str=\"pwSkills Team!\"\n",
        "print(str.lower())\n",
        "print(str.upper())\n"
      ],
      "metadata": {
        "colab": {
          "base_uri": "https://localhost:8080/"
        },
        "id": "gbWhCFfmY5rD",
        "outputId": "31fe9bb8-fb2f-4fca-d373-7687fa712e1b"
      },
      "execution_count": 8,
      "outputs": [
        {
          "output_type": "stream",
          "name": "stdout",
          "text": [
            "pwskills team!\n",
            "PWSKILLS TEAM!\n"
          ]
        }
      ]
    },
    {
      "cell_type": "code",
      "source": [
        "#9  Write a code to count the number of words in a string\n",
        "\n",
        "str=\"My name is Tushar and i am a btech student\"\n",
        "\n",
        "count=str.split()\n",
        "print(len(count))"
      ],
      "metadata": {
        "colab": {
          "base_uri": "https://localhost:8080/"
        },
        "id": "-Vh9Gvu1eDBj",
        "outputId": "42833db7-cd7f-4067-fef7-c51695baf680"
      },
      "execution_count": 9,
      "outputs": [
        {
          "output_type": "stream",
          "name": "stdout",
          "text": [
            "10\n"
          ]
        }
      ]
    },
    {
      "cell_type": "code",
      "source": [
        "#10 Write a code to concatenate two strings without using the + operator\n",
        "\n",
        "str1=\"Hi ,how are you?\"\n",
        "str2=\"I am fine ,Thank you\"\n",
        "print(f\"{str1} {str2}\")      # we can also concatenate by print(str1,str2)"
      ],
      "metadata": {
        "colab": {
          "base_uri": "https://localhost:8080/"
        },
        "id": "vruzgfUVfiXN",
        "outputId": "4ce69b45-f39c-4ee8-ca86-cf2d8b95caed"
      },
      "execution_count": 10,
      "outputs": [
        {
          "output_type": "stream",
          "name": "stdout",
          "text": [
            "Hi ,how are you? I am fine ,Thank you\n"
          ]
        }
      ]
    },
    {
      "cell_type": "code",
      "source": [],
      "metadata": {
        "id": "a1fRJ68VhIHk"
      },
      "execution_count": 10,
      "outputs": []
    }
  ]
}
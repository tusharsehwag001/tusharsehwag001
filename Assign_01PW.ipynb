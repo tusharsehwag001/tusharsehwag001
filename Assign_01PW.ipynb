{
  "nbformat": 4,
  "nbformat_minor": 0,
  "metadata": {
    "colab": {
      "provenance": [],
      "authorship_tag": "ABX9TyMzoVPzFHi/Wled57lfrjd5",
      "include_colab_link": true
    },
    "kernelspec": {
      "name": "python3",
      "display_name": "Python 3"
    },
    "language_info": {
      "name": "python"
    }
  },
  "cells": [
    {
      "cell_type": "markdown",
      "metadata": {
        "id": "view-in-github",
        "colab_type": "text"
      },
      "source": [
        "<a href=\"https://colab.research.google.com/github/tusharsehwag001/tusharsehwag001/blob/main/Assign_01PW.ipynb\" target=\"_parent\"><img src=\"https://colab.research.google.com/assets/colab-badge.svg\" alt=\"Open In Colab\"/></a>"
      ]
    },
    {
      "cell_type": "code",
      "execution_count": null,
      "metadata": {
        "colab": {
          "base_uri": "https://localhost:8080/"
        },
        "id": "GF_MoUrrJhnT",
        "outputId": "bbcfffee-bccb-4a1f-9cfb-36e5ef5230e4"
      },
      "outputs": [
        {
          "output_type": "stream",
          "name": "stdout",
          "text": [
            "snosnhoj\n"
          ]
        }
      ],
      "source": [
        "# 1 Write a code to reverse a string\n",
        "\n",
        "str=\"johnsons\"\n",
        "print(str[::-1])"
      ]
    },
    {
      "cell_type": "code",
      "source": [
        "# 2 Write a code to count the number of vowels in a string\n",
        "\n",
        "str=\"johnson\"\n",
        "vowels=0\n",
        "for i in str:\n",
        "  if i in 'aeiou':\n",
        "     vowels=vowels+1\n",
        "print(vowels)\n"
      ],
      "metadata": {
        "colab": {
          "base_uri": "https://localhost:8080/"
        },
        "id": "Hn6rYjzWNZYE",
        "outputId": "835e451e-8ab2-493c-e688-1664e43c487e"
      },
      "execution_count": null,
      "outputs": [
        {
          "output_type": "stream",
          "name": "stdout",
          "text": [
            "2\n"
          ]
        }
      ]
    },
    {
      "cell_type": "code",
      "source": [
        "# 3 Write a code to check if a given string is a palindrome or not\n",
        "\n",
        "string=\"PWskills\"\n",
        "if string==string[::-1]:\n",
        "    print(\"String is palindrome\")\n",
        "else:\n",
        "    print(\"String is not a palindrome\")\n",
        "\n",
        "\n"
      ],
      "metadata": {
        "colab": {
          "base_uri": "https://localhost:8080/"
        },
        "id": "TvICYxonPTKk",
        "outputId": "0a445731-72f7-4c3d-ad1c-a200a2f045f0"
      },
      "execution_count": null,
      "outputs": [
        {
          "output_type": "stream",
          "name": "stdout",
          "text": [
            "String is not a palindrome\n"
          ]
        }
      ]
    },
    {
      "cell_type": "code",
      "source": [
        "# 4 Write a code to check if two given strings are anagrams of each other\n",
        "word_1=\"timla\"\n",
        "word_2=\"milta\"\n",
        "\n",
        "if sorted(word_1)==sorted(word_2):\n",
        "  print(\"Word is anagram\")\n",
        "else:\n",
        "  print(\"word is not anagram\")\n",
        "\n",
        "#anagram is that word that have same no. of characters and have same words but their order is different\n",
        "\n"
      ],
      "metadata": {
        "id": "UHM9MTN7Q2KX",
        "colab": {
          "base_uri": "https://localhost:8080/"
        },
        "outputId": "4dcd27da-d2a7-41ba-c4fa-adc9922709a2"
      },
      "execution_count": null,
      "outputs": [
        {
          "output_type": "stream",
          "name": "stdout",
          "text": [
            "Word is anagram\n"
          ]
        }
      ]
    },
    {
      "cell_type": "code",
      "source": [
        "# 5 Write a code to find all occurrences of a given substring within another string\n",
        "\n",
        "string=\"abcdefghijkl\"\n",
        "sub_string=\"bcd\"\n",
        "for i in string:\n",
        "  for j in sub_string:\n",
        "    if j in i:\n",
        "     print(\"It is present\")\n",
        "    else:\n",
        "     print(\"It is not present\")"
      ],
      "metadata": {
        "id": "igzEO-GJTQh8",
        "colab": {
          "base_uri": "https://localhost:8080/"
        },
        "outputId": "d095483c-0f17-4a6d-b05b-233fb240cd83"
      },
      "execution_count": null,
      "outputs": [
        {
          "output_type": "stream",
          "name": "stdout",
          "text": [
            "It is not present\n",
            "It is not present\n",
            "It is not present\n",
            "It is present\n",
            "It is not present\n",
            "It is not present\n",
            "It is not present\n",
            "It is present\n",
            "It is not present\n",
            "It is not present\n",
            "It is not present\n",
            "It is present\n",
            "It is not present\n",
            "It is not present\n",
            "It is not present\n",
            "It is not present\n",
            "It is not present\n",
            "It is not present\n",
            "It is not present\n",
            "It is not present\n",
            "It is not present\n",
            "It is not present\n",
            "It is not present\n",
            "It is not present\n",
            "It is not present\n",
            "It is not present\n",
            "It is not present\n",
            "It is not present\n",
            "It is not present\n",
            "It is not present\n",
            "It is not present\n",
            "It is not present\n",
            "It is not present\n",
            "It is not present\n",
            "It is not present\n",
            "It is not present\n"
          ]
        }
      ]
    },
    {
      "cell_type": "code",
      "source": [
        "#6  Write a code to perform basic string compression using the counts of repeated characters\n",
        "str=\"aaabbbbbbbbcccccdddzzzz\"\n",
        "for i in str:\n",
        "  print()\n"
      ],
      "metadata": {
        "colab": {
          "base_uri": "https://localhost:8080/"
        },
        "id": "UxdczVaIVMKH",
        "outputId": "81716865-ba01-47ff-a8c5-2d5de26eed41"
      },
      "execution_count": null,
      "outputs": [
        {
          "output_type": "stream",
          "name": "stdout",
          "text": [
            "\n",
            "\n",
            "\n",
            "\n",
            "\n",
            "\n",
            "\n",
            "\n",
            "\n",
            "\n",
            "\n",
            "\n",
            "\n",
            "\n",
            "\n",
            "\n",
            "\n",
            "\n",
            "\n",
            "\n",
            "\n",
            "\n",
            "\n"
          ]
        }
      ]
    },
    {
      "cell_type": "code",
      "source": [
        "#7 Write a code to determine if a string has all unique characters\n",
        "\n",
        "str=\"abcdefghijk\"\n",
        "is_duplicacy=False\n",
        "for i in range(len(str)):\n",
        "  for j in range(i+1,len(str)):\n",
        "    if str[i]==str[j]:\n",
        "      is_duplicacy=True\n",
        "      break\n",
        "  if is_duplicacy:\n",
        "    break\n",
        "\n",
        "if is_duplicacy:\n",
        " print(\"string do not have unique characters\")\n",
        "else:\n",
        " print(\"String has all unique characters\")\n"
      ],
      "metadata": {
        "colab": {
          "base_uri": "https://localhost:8080/"
        },
        "id": "p7SVrULbXCMm",
        "outputId": "eec04fa6-b301-4771-8c1b-6fccacd062a2"
      },
      "execution_count": null,
      "outputs": [
        {
          "output_type": "stream",
          "name": "stdout",
          "text": [
            "String has all unique characters\n"
          ]
        }
      ]
    },
    {
      "cell_type": "code",
      "source": [
        "#8  Write a code to convert a given string to uppercase or lowercase\n",
        "\n",
        "str=\"pwSkills Team!\"\n",
        "print(str.lower())\n",
        "print(str.upper())\n"
      ],
      "metadata": {
        "colab": {
          "base_uri": "https://localhost:8080/"
        },
        "id": "gbWhCFfmY5rD",
        "outputId": "31fe9bb8-fb2f-4fca-d373-7687fa712e1b"
      },
      "execution_count": null,
      "outputs": [
        {
          "output_type": "stream",
          "name": "stdout",
          "text": [
            "pwskills team!\n",
            "PWSKILLS TEAM!\n"
          ]
        }
      ]
    },
    {
      "cell_type": "code",
      "source": [
        "#9  Write a code to count the number of words in a string\n",
        "\n",
        "str=\"My name is Tushar and i am a btech student\"\n",
        "\n",
        "count=str.split()\n",
        "print(len(count))"
      ],
      "metadata": {
        "colab": {
          "base_uri": "https://localhost:8080/"
        },
        "id": "-Vh9Gvu1eDBj",
        "outputId": "42833db7-cd7f-4067-fef7-c51695baf680"
      },
      "execution_count": null,
      "outputs": [
        {
          "output_type": "stream",
          "name": "stdout",
          "text": [
            "10\n"
          ]
        }
      ]
    },
    {
      "cell_type": "code",
      "source": [
        "#10 Write a code to concatenate two strings without using the + operator\n",
        "\n",
        "str1=\"Hi ,how are you?\"\n",
        "str2=\"I am fine ,Thank you\"\n",
        "print(f\"{str1} {str2}\")      # we can also concatenate by print(str1,str2)"
      ],
      "metadata": {
        "colab": {
          "base_uri": "https://localhost:8080/"
        },
        "id": "vruzgfUVfiXN",
        "outputId": "4ce69b45-f39c-4ee8-ca86-cf2d8b95caed"
      },
      "execution_count": null,
      "outputs": [
        {
          "output_type": "stream",
          "name": "stdout",
          "text": [
            "Hi ,how are you? I am fine ,Thank you\n"
          ]
        }
      ]
    },
    {
      "cell_type": "code",
      "source": [
        "#11 Write a code to remove all occurrences of a specific element from a list\n",
        "\n",
        "\n",
        "l1=[1,2,3,4,5,6,2]\n",
        "to_remove=2\n",
        "\n",
        "lg=[i for i in l1 if i!= to_remove]\n",
        "print(lg)"
      ],
      "metadata": {
        "id": "a1fRJ68VhIHk",
        "colab": {
          "base_uri": "https://localhost:8080/"
        },
        "outputId": "30898484-ce08-40fa-c85a-c42223d0e3a6"
      },
      "execution_count": null,
      "outputs": [
        {
          "output_type": "stream",
          "name": "stdout",
          "text": [
            "[1, 3, 4, 5, 6]\n"
          ]
        }
      ]
    },
    {
      "cell_type": "code",
      "source": [
        "#12  Implement a code to find the second largest number in a given list of integers\n",
        "\n",
        "num=[10,34,54,12,65]\n",
        "\n",
        "largest=float('-inf')\n",
        "second_largest=float('-inf')\n",
        "\n",
        "for i in num:\n",
        "  if i>largest:\n",
        "    second_largest=largest\n",
        "    largest=i\n",
        "  elif i>second_largest and  i!=largest:\n",
        "    second_largest=i\n",
        "\n",
        "print(\"Second largest number is: \" ,second_largest)"
      ],
      "metadata": {
        "id": "LClZ9uHMDQre",
        "colab": {
          "base_uri": "https://localhost:8080/"
        },
        "outputId": "8dc1f956-8ef2-4264-e255-999e37322055"
      },
      "execution_count": 21,
      "outputs": [
        {
          "output_type": "stream",
          "name": "stdout",
          "text": [
            "Second largest number is:  54\n"
          ]
        }
      ]
    },
    {
      "cell_type": "code",
      "source": [
        "#13 Create a code to count the occurrences of each element in a list and return a dictionary with elements as keys and their counts as values\n",
        "\n",
        "list=[1,2,3,4,5,6,1,2,7,8,5,6,2,1,3]\n",
        "count=set(list)\n",
        "\n",
        "occ=[{i:list.count(i) for i in list}]\n",
        "print(occ)\n"
      ],
      "metadata": {
        "colab": {
          "base_uri": "https://localhost:8080/"
        },
        "id": "VQdMZ1TvEHgf",
        "outputId": "f6e87b25-49dc-4b51-817f-9f0594c14b25"
      },
      "execution_count": null,
      "outputs": [
        {
          "output_type": "stream",
          "name": "stdout",
          "text": [
            "[{1: 3, 2: 3, 3: 2, 4: 1, 5: 2, 6: 2, 7: 1, 8: 1}]\n"
          ]
        }
      ]
    },
    {
      "cell_type": "code",
      "source": [
        "#14  Write a code to reverse a list in-place without using any built-in reverse functions\n",
        "\n",
        "lst1=[1,2,3,4,5,6]\n",
        "\n",
        "print(lst1[::-1])"
      ],
      "metadata": {
        "colab": {
          "base_uri": "https://localhost:8080/"
        },
        "id": "5dALJVUEHGHO",
        "outputId": "35dacc81-f66d-4675-ac96-a49c1923ff2a"
      },
      "execution_count": null,
      "outputs": [
        {
          "output_type": "stream",
          "name": "stdout",
          "text": [
            "[6, 5, 4, 3, 2, 1]\n"
          ]
        }
      ]
    },
    {
      "cell_type": "code",
      "source": [
        "#15  Implement a code to find and remove duplicates from a list while preserving the original order of elements\n",
        "\n",
        "lst1=[1,2,3,4,2,4,5,\"jss\",\"kiet\",2,5]\n",
        "lst2=[]\n",
        "\n",
        "for i in lst1:\n",
        "  if i not in lst2:\n",
        "    lst2.append(i)\n",
        "\n",
        "print(lst2)"
      ],
      "metadata": {
        "colab": {
          "base_uri": "https://localhost:8080/"
        },
        "id": "C0AeHM9BOqWy",
        "outputId": "0616ba53-6596-493a-d917-e9d36cd28a76"
      },
      "execution_count": 38,
      "outputs": [
        {
          "output_type": "stream",
          "name": "stdout",
          "text": [
            "[1, 2, 3, 4, 5, 'jss', 'kiet']\n"
          ]
        }
      ]
    },
    {
      "cell_type": "code",
      "source": [
        "#16"
      ],
      "metadata": {
        "id": "4aPBjcCVTZpQ"
      },
      "execution_count": 39,
      "outputs": []
    },
    {
      "cell_type": "code",
      "source": [],
      "metadata": {
        "id": "EL_ljJqOTbeW"
      },
      "execution_count": null,
      "outputs": []
    }
  ]
}
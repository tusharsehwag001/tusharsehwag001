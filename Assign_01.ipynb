{
  "nbformat": 4,
  "nbformat_minor": 0,
  "metadata": {
    "colab": {
      "provenance": [],
      "authorship_tag": "ABX9TyP7GGhForiuUvZMOs0Np0Ed",
      "include_colab_link": true
    },
    "kernelspec": {
      "name": "python3",
      "display_name": "Python 3"
    },
    "language_info": {
      "name": "python"
    }
  },
  "cells": [
    {
      "cell_type": "markdown",
      "metadata": {
        "id": "view-in-github",
        "colab_type": "text"
      },
      "source": [
        "<a href=\"https://colab.research.google.com/github/tusharsehwag001/tusharsehwag001/blob/main/Assign_01.ipynb\" target=\"_parent\"><img src=\"https://colab.research.google.com/assets/colab-badge.svg\" alt=\"Open In Colab\"/></a>"
      ]
    },
    {
      "cell_type": "code",
      "execution_count": null,
      "metadata": {
        "colab": {
          "base_uri": "https://localhost:8080/"
        },
        "id": "GF_MoUrrJhnT",
        "outputId": "21797bbe-8ebe-4ccc-999f-ae1f5abbadad"
      },
      "outputs": [
        {
          "output_type": "stream",
          "name": "stdout",
          "text": [
            "snosnhoj\n"
          ]
        }
      ],
      "source": [
        "# 1 Write a code to reverse a string\n",
        "\n",
        "str=\"johnsons\"\n",
        "print(str[::-1])"
      ]
    },
    {
      "cell_type": "code",
      "source": [
        "# 2 Write a code to count the number of vowels in a string\n",
        "\n",
        "str=\"johnson\"\n",
        "vowels=0\n",
        "for i in str:\n",
        "  if i in 'aeiou':\n",
        "     vowels=vowels+1\n",
        "print(vowels)\n"
      ],
      "metadata": {
        "colab": {
          "base_uri": "https://localhost:8080/"
        },
        "id": "Hn6rYjzWNZYE",
        "outputId": "a55c26d1-7a20-4f7b-e62c-a7ec985f0124"
      },
      "execution_count": null,
      "outputs": [
        {
          "output_type": "stream",
          "name": "stdout",
          "text": [
            "2\n"
          ]
        }
      ]
    },
    {
      "cell_type": "code",
      "source": [
        "# 3 Write a code to check if a given string is a palindrome or not\n",
        "\n",
        "string=\"PWskills\"\n",
        "if string==string[::-1]:\n",
        "    print(\"String is palindrome\")\n",
        "else:\n",
        "    print(\"String is not a palindrome\")\n",
        "\n",
        "\n"
      ],
      "metadata": {
        "colab": {
          "base_uri": "https://localhost:8080/"
        },
        "id": "TvICYxonPTKk",
        "outputId": "20cfc755-5c2f-4b4d-803e-831257ac450d"
      },
      "execution_count": null,
      "outputs": [
        {
          "output_type": "stream",
          "name": "stdout",
          "text": [
            "String is not a palindrome\n"
          ]
        }
      ]
    },
    {
      "cell_type": "code",
      "source": [
        "# 4 Write a code to check if two given strings are anagrams of each other\n",
        "word_1=\"timla\"\n",
        "word_2=\"milta\"\n",
        "\n",
        "if sorted(word_1)==sorted(word_2):\n",
        "  print(\"Word is anagram\")\n",
        "else:\n",
        "  print(\"word is not anagram\")\n",
        "\n",
        "#anagram is that word that have same no. of characters and have same words but their order is different\n",
        "\n"
      ],
      "metadata": {
        "id": "UHM9MTN7Q2KX",
        "colab": {
          "base_uri": "https://localhost:8080/"
        },
        "outputId": "95b16243-5260-4cb5-d69f-579dd65fe9c0"
      },
      "execution_count": 20,
      "outputs": [
        {
          "output_type": "stream",
          "name": "stdout",
          "text": [
            "Word is anagram\n"
          ]
        }
      ]
    },
    {
      "cell_type": "code",
      "source": [
        "# 5 Write a code to find all occurrences of a given substring within another string\n",
        "\n",
        "string=\"abcdefghijkl\"\n",
        "sub_string=\"bcd\"\n",
        "for i in string:\n",
        "  for j in sub_string:\n",
        "    if j in i:\n",
        "     print(\"It is present\")\n",
        "    else:\n",
        "     print(\"It is not present\")"
      ],
      "metadata": {
        "id": "igzEO-GJTQh8",
        "colab": {
          "base_uri": "https://localhost:8080/"
        },
        "outputId": "1b988a8f-d6bf-4d28-ec1a-967e2b50da61"
      },
      "execution_count": 24,
      "outputs": [
        {
          "output_type": "stream",
          "name": "stdout",
          "text": [
            "It is not present\n",
            "It is not present\n",
            "It is not present\n",
            "It is present\n",
            "It is not present\n",
            "It is not present\n",
            "It is not present\n",
            "It is present\n",
            "It is not present\n",
            "It is not present\n",
            "It is not present\n",
            "It is present\n",
            "It is not present\n",
            "It is not present\n",
            "It is not present\n",
            "It is not present\n",
            "It is not present\n",
            "It is not present\n",
            "It is not present\n",
            "It is not present\n",
            "It is not present\n",
            "It is not present\n",
            "It is not present\n",
            "It is not present\n",
            "It is not present\n",
            "It is not present\n",
            "It is not present\n",
            "It is not present\n",
            "It is not present\n",
            "It is not present\n",
            "It is not present\n",
            "It is not present\n",
            "It is not present\n",
            "It is not present\n",
            "It is not present\n",
            "It is not present\n"
          ]
        }
      ]
    },
    {
      "cell_type": "code",
      "source": [
        "''"
      ],
      "metadata": {
        "id": "UxdczVaIVMKH"
      },
      "execution_count": null,
      "outputs": []
    }
  ]
}